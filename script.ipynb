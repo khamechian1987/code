{
 "cells": [
  {
   "cell_type": "code",
   "execution_count": 4,
   "metadata": {},
   "outputs": [],
   "source": [
    "import nbformat\n",
    "from docx import Document\n",
    "\n",
    "def extract_markdown_cells(notebook_path, output_word_file):\n",
    "    with open(notebook_path, 'r', encoding='utf-8') as f:\n",
    "        nb = nbformat.read(f, as_version=4)\n",
    "    \n",
    "    markdown_cells = [cell['source'] for cell in nb['cells'] if cell['cell_type'] == 'markdown']\n",
    "    \n",
    "    # Create a Word document\n",
    "    doc = Document()\n",
    "    for content in markdown_cells:\n",
    "        doc.add_paragraph(content)\n",
    "        doc.add_paragraph(\"\\n\")  # Add a space between cells\n",
    "\n",
    "    # Save the document\n",
    "    doc.save(output_word_file)\n",
    "\n",
    "# Replace with the path to your Jupyter Notebook and desired output Word file\n",
    "extract_markdown_cells('ARO.ipynb', 'output.docx')\n",
    "\n"
   ]
  }
 ],
 "metadata": {
  "kernelspec": {
   "display_name": "Python 3",
   "language": "python",
   "name": "python3"
  },
  "language_info": {
   "codemirror_mode": {
    "name": "ipython",
    "version": 3
   },
   "file_extension": ".py",
   "mimetype": "text/x-python",
   "name": "python",
   "nbconvert_exporter": "python",
   "pygments_lexer": "ipython3",
   "version": "3.11.4"
  }
 },
 "nbformat": 4,
 "nbformat_minor": 2
}
