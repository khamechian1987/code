{
 "cells": [
  {
   "cell_type": "markdown",
   "metadata": {},
   "source": [
    "Based on the information provided in the \"Optym-Take-Home-Exam.pdf\" document, we can develop a Mixed Integer Linear Programming (MILP) model for the Aircraft Route Optimization Problem. The model will include complete notations for input parameters, decision variables, constraints, and the objective function."
   ]
  },
  {
   "cell_type": "markdown",
   "metadata": {},
   "source": [
    "# Input Parameters:"
   ]
  },
  {
   "cell_type": "markdown",
   "metadata": {},
   "source": [
    "\n",
    "1. <b>D</b>: Set of demands (customer flying requests).\n",
    "2. <b>A</b>: Set of aircraft.\n",
    "3. <b>L</b>: Set of flight legs.\n",
    "4. <b>T</b>: Time periods for planning (e.g., days).\n",
    "5. <b>C<sub>l</sub></b>: Operating cost for each flight leg <i>l ∈ L</i>.\n",
    "6. <b>R<sub>d</sub></b>: Revenue from fulfilling demand <i>d ∈ D</i>.\n",
    "7. <b>M</b>: Large positive number (for modeling purposes).\n",
    "8. <b>S<sub>la</sub></b>: Starting location of aircraft <i>a ∈ A</i> for leg <i>l ∈ L</i>.\n",
    "9. <b>E<sub>la</sub></b>: Ending location of aircraft <i>a ∈ A</i> for leg <i>l ∈ L</i>.\n",
    "10. <b>HOS<sub>a</sub></b>: Maximum hours of service for aircraft <i>a ∈ A</i>.\n",
    "11. <b>Rest<sub>a</sub></b>: Mandatory rest period for aircraft <i>a ∈ A</i> after <i>HOS<sub>a</sub></i> is reached.\n",
    "\n",
    "\n"
   ]
  },
  {
   "cell_type": "markdown",
   "metadata": {},
   "source": [
    "# Decision Variables:"
   ]
  },
  {
   "cell_type": "markdown",
   "metadata": {},
   "source": [
    "1.\tx_lat: Binary variable, 1 if aircraft a flies leg l at time t, 0 otherwise.\n",
    "2.\ty_dat: Binary variable, 1 if demand d is fulfilled at time t, 0 otherwise.\n",
    "3.\tz_la: Binary variable, 1 if leg l is flown empty by aircraft a, 0 otherwise.\n"
   ]
  },
  {
   "cell_type": "markdown",
   "metadata": {},
   "source": [
    "# Objective Function:"
   ]
  },
  {
   "cell_type": "markdown",
   "metadata": {},
   "source": [
    "Maximize total profit, which is the revenue from fulfilling demands minus the operating costs:\n"
   ]
  },
  {
   "cell_type": "markdown",
   "metadata": {},
   "source": [
    "$$\n",
    "\\text{Maximize } Z = \\sum_d \\sum_t R_d \\cdot y_{dat} - \\sum_l \\sum_a \\sum_t C_l \\cdot x_{lat}\n",
    "$$\n"
   ]
  },
  {
   "cell_type": "markdown",
   "metadata": {},
   "source": [
    "## import libraries"
   ]
  },
  {
   "cell_type": "code",
   "execution_count": 16,
   "metadata": {},
   "outputs": [],
   "source": [
    "from pulp import LpMaximize, LpProblem, LpVariable, lpSum, LpBinary, LpStatus\n",
    "import pandas as pd\n",
    "import pickle"
   ]
  },
  {
   "cell_type": "markdown",
   "metadata": {},
   "source": [
    "## load data"
   ]
  },
  {
   "cell_type": "code",
   "execution_count": 17,
   "metadata": {},
   "outputs": [],
   "source": [
    "aircraft_data = pd.read_csv(\"C:/Users/mrkha/OneDrive/Desktop/OPTYM/code/Aircraft.csv\")\n",
    "airports_data = pd.read_csv(\"C:/Users/mrkha/OneDrive/Desktop/OPTYM/code/Airports.csv\", encoding='ISO-8859-1')\n",
    "demands_file =  pd.read_csv(\"C:/Users/mrkha/OneDrive/Desktop/OPTYM/code/Demands.csv\")\n",
    "distance_time_file =  pd.read_csv(\"C:/Users/mrkha/OneDrive/Desktop/OPTYM/code/Distance and Flying Time.csv\")"
   ]
  },
  {
   "cell_type": "markdown",
   "metadata": {},
   "source": [
    "# A: Focus on a single day: 24th July"
   ]
  },
  {
   "cell_type": "code",
   "execution_count": 18,
   "metadata": {},
   "outputs": [],
   "source": [
    "specific_date = pd.Timestamp('2022-07-24')\n",
    "demands_file['ScheduledDepDatetime'] = pd.to_datetime(demands_file['ScheduledDepDatetime'])\n",
    "demands_file = demands_file[demands_file['ScheduledDepDatetime'].dt.date == specific_date.date()]"
   ]
  },
  {
   "cell_type": "markdown",
   "metadata": {},
   "source": [
    "## preprocess"
   ]
  },
  {
   "cell_type": "code",
   "execution_count": 19,
   "metadata": {},
   "outputs": [],
   "source": [
    "aircraft_set = aircraft_data['AircraftID'].unique()\n",
    "demands_set = demands_file['DemandID'].unique()\n",
    "airports_set = airports_data['Airport Name'].unique()  # Use the correct column name\n",
    "L = list(set(zip(distance_time_file['DepAirport'], distance_time_file['ArrAirport'])))\n",
    "time_periods = [specific_date.date()]  # One day planning"
   ]
  },
  {
   "cell_type": "markdown",
   "metadata": {},
   "source": [
    "input size is so big so here is how to reduce and filter the ac set and L"
   ]
  },
  {
   "cell_type": "code",
   "execution_count": 20,
   "metadata": {},
   "outputs": [],
   "source": [
    "# Filtering aircraft_set based on initial location\n",
    "# Assuming 'InitialLocation' is a column in aircraft_data\n",
    "preferred_locations = {'Location1', 'Location2'}  # Replace with actual locations of interest\n",
    "filtered_aircraft_set = [a for a in aircraft_set if aircraft_data[aircraft_data['AircraftID'] == a]['InitialLocation'].iloc[0] in preferred_locations]\n",
    "\n",
    "# Filtering L based on specific airport pairs\n",
    "# Assuming distance_time_data contains relevant airport pairs\n",
    "relevant_airport_pairs = set(zip(distance_time_file['DepAirport'], distance_time_file['ArrAirport']))  # You can further filter this set as needed\n",
    "filtered_L = [(dep, arr) for (dep, arr) in L if (dep, arr) in relevant_airport_pairs]\n"
   ]
  },
  {
   "cell_type": "markdown",
   "metadata": {},
   "source": [
    "## parameters"
   ]
  },
  {
   "cell_type": "code",
   "execution_count": 21,
   "metadata": {},
   "outputs": [],
   "source": [
    "fixed_cost_per_leg = 10000000\n",
    "# Operating cost for each flight leg (assumed to be in Distance and Flying Time data)\n",
    "operating_costs = {row['DepAirport'] + row['ArrAirport']: row['FlyingTime']\n",
    "                   for _, row in distance_time_file.iterrows()}\n",
    "#\n",
    "# Revenue from fulfilling demand (simplification: proportional to PaxCount)\n",
    "revenue_per_demand = {row['DemandID']: row['PaxCount'] * 100  # Arbitrary revenue per passenger\n",
    "                      for _, row in demands_file.iterrows()}"
   ]
  },
  {
   "cell_type": "markdown",
   "metadata": {},
   "source": [
    "## Model initialization"
   ]
  },
  {
   "cell_type": "code",
   "execution_count": 22,
   "metadata": {},
   "outputs": [],
   "source": [
    "model = LpProblem(\"Aircraft_Route_Optimization\", LpMaximize)"
   ]
  },
  {
   "cell_type": "markdown",
   "metadata": {},
   "source": [
    "## Decision Variables"
   ]
  },
  {
   "cell_type": "code",
   "execution_count": 23,
   "metadata": {},
   "outputs": [],
   "source": [
    "y_vars = LpVariable.dicts(\"y\", [(d, t) for d in demands_set for t in time_periods], cat=LpBinary)"
   ]
  },
  {
   "cell_type": "code",
   "execution_count": 24,
   "metadata": {},
   "outputs": [],
   "source": [
    "x_vars = LpVariable.dicts(\"x\", \n",
    "                          [(a, l, t) for a in filtered_aircraft_set for l in filtered_L for t in time_periods], \n",
    "                          cat=LpBinary)"
   ]
  },
  {
   "cell_type": "code",
   "execution_count": 25,
   "metadata": {},
   "outputs": [],
   "source": [
    "z_vars = LpVariable.dicts(\"z\", \n",
    "                          [(a, l) for a in filtered_aircraft_set for l in filtered_L], \n",
    "                          cat=LpBinary)"
   ]
  },
  {
   "cell_type": "code",
   "execution_count": 26,
   "metadata": {},
   "outputs": [],
   "source": [
    "# x_vars = LpVariable.dicts(\"x\", [(a, l, t) for a in aircraft_set for l in L for t in time_periods], cat=LpBinary)\n",
    "# y_vars = LpVariable.dicts(\"y\", [(d, t) for d in demands_set for t in time_periods], cat=LpBinary)\n",
    "# z_vars = LpVariable.dicts(\"z\", [(a, l) for a in aircraft_set for l in L], cat=LpBinary)"
   ]
  },
  {
   "cell_type": "code",
   "execution_count": 27,
   "metadata": {},
   "outputs": [],
   "source": [
    "# # Assumption: Define a set of feasible flight legs\n",
    "# # This is an illustrative example. Replace with your actual feasibility criteria\n",
    "# feasible_legs_set = set(zip(distance_time_file['DepAirport'], distance_time_file['ArrAirport']))\n",
    "\n",
    "# # Define decision variables more efficiently\n",
    "# x_vars = {}\n",
    "# for a in aircraft_set:\n",
    "#     for (dep, arr) in L:\n",
    "#         # Create variables only for feasible flight legs\n",
    "#         if (dep, arr) in feasible_legs_set:\n",
    "#             for t in time_periods:\n",
    "#                 x_vars[(a, (dep, arr), t)] = LpVariable(f\"x_{a}_{dep}_{arr}_{t}\", cat=LpBinary)\n",
    "\n",
    "# y_vars = { (d, t): LpVariable(f\"y_{d}_{t}\", cat=LpBinary) for d in demands_set for t in time_periods }\n",
    "# z_vars = { (a, l): LpVariable(f\"z_{a}_{l}\", cat=LpBinary) for a in aircraft_set for l in L }\n",
    "\n"
   ]
  },
  {
   "cell_type": "markdown",
   "metadata": {},
   "source": [
    "## Objective Function"
   ]
  },
  {
   "cell_type": "code",
   "execution_count": 28,
   "metadata": {},
   "outputs": [],
   "source": [
    "# # Revenue from fulfilling demands\n",
    "# revenue = lpSum(revenue_per_demand[d] * y_vars[d, t] for d in demands_set for t in time_periods)\n",
    "\n",
    "# # Operating costs for flying legs\n",
    "# cost = lpSum(operating_costs[l] * x_vars[a, l, t] for a in aircraft_set for l in L for t in time_periods)\n",
    "\n",
    "# # Objective function: Maximize profit (Revenue - Cost)\n",
    "# model += revenue - cost\n"
   ]
  },
  {
   "cell_type": "markdown",
   "metadata": {},
   "source": [
    "# Constraints"
   ]
  },
  {
   "cell_type": "markdown",
   "metadata": {},
   "source": [
    "1. -\tDemand Fulfillment: Each demand must be fulfilled at least once in the planning period.\n"
   ]
  },
  {
   "cell_type": "markdown",
   "metadata": {},
   "source": [
    "$$\\sum_{t} y_{dt} \\geq 1 \\quad \\text{for all } d$$\n"
   ]
  },
  {
   "cell_type": "code",
   "execution_count": 29,
   "metadata": {},
   "outputs": [],
   "source": [
    "# Demand Fulfillment Constraint\n",
    "for d in demands_set:\n",
    "    model += lpSum(y_vars[d, t] for t in time_periods) >= 1, f\"Demand_Fulfillment_{d}\"\n"
   ]
  },
  {
   "cell_type": "markdown",
   "metadata": {},
   "source": [
    "2. -\tAircraft Route Continuity: Ensures that for each aircraft, the number of arrivals at an airport equals the number of departures."
   ]
  },
  {
   "cell_type": "markdown",
   "metadata": {},
   "source": [
    "$$\\sum_{l, S_{la} = k} X_{lat} = \\sum_{l, E_{la} = k} X_{lat} \\quad \\text{for all } a, t, \\text{ and } k \\text{ in airports}$$\n"
   ]
  },
  {
   "cell_type": "code",
   "execution_count": 30,
   "metadata": {},
   "outputs": [],
   "source": [
    "for a in filtered_aircraft_set:\n",
    "    for k in airports_set:  # Assuming this is the set of all airports\n",
    "        for t in time_periods:\n",
    "            arrivals = lpSum(x_vars[a, (dep, arr), t] for (dep, arr) in filtered_L if arr == k)\n",
    "            departures = lpSum(x_vars[a, (dep, arr), t] for (dep, arr) in filtered_L if dep == k)\n",
    "            model += (arrivals == departures), f\"Aircraft_Route_Continuity_{a}_{k}_{t}\"\n"
   ]
  },
  {
   "cell_type": "markdown",
   "metadata": {},
   "source": [
    "3-\tAircraft Utilization Limit: Each aircraft cannot exceed its maximum hours of service."
   ]
  },
  {
   "cell_type": "markdown",
   "metadata": {},
   "source": [
    "$$\\sum_{l} \\sum_{t} x_{lat} \\leq \\text{HOS}_a \\quad \\text{for all } a$$\n"
   ]
  },
  {
   "cell_type": "code",
   "execution_count": 31,
   "metadata": {},
   "outputs": [],
   "source": [
    "# Assuming 'InitialHOS' is a column in aircraft_data representing the max hours of service\n",
    "for a in filtered_aircraft_set:\n",
    "    max_hours_of_service = aircraft_data.loc[aircraft_data['AircraftID'] == a, 'InitialHOS'].iloc[0]\n",
    "    model += lpSum(x_vars[a, l, t] for l in filtered_L for t in time_periods) <= max_hours_of_service, f\"Aircraft_Utilization_Limit_{a}\"\n"
   ]
  },
  {
   "cell_type": "markdown",
   "metadata": {},
   "source": [
    "4. \tMandatory Rest: After reaching the maximum HOS, the aircraft must observe a mandatory rest period."
   ]
  },
  {
   "cell_type": "markdown",
   "metadata": {},
   "source": [
    "$$\n",
    "\\begin{aligned}\n",
    "&\\text{If } \\quad l \\in L, \\quad \\sum x_{lat} = \\text{HOS}_a, \\text{ then} \\\\\n",
    "&\\quad l \\in L, \\quad \\sum x_{la(t+1)} = 0\n",
    "\\end{aligned}\n",
    "$$\n"
   ]
  },
  {
   "cell_type": "markdown",
   "metadata": {},
   "source": [
    "Given the complexity of directly implementing this as a linear constraint, a practical approach might be to set a utilization limit slightly less than the maximum HOS for each day, thereby implicitly allowing for rest time. This approach simplifies the model while achieving the intended outcome of ensuring rest periods."
   ]
  },
  {
   "cell_type": "code",
   "execution_count": 32,
   "metadata": {},
   "outputs": [],
   "source": [
    "# Simplified Mandatory Rest Period Constraint\n",
    "for a in filtered_aircraft_set:\n",
    "    for t in time_periods[:-1]:  # Exclude the last time period\n",
    "        max_hours_before_rest = aircraft_data.loc[aircraft_data['AircraftID'] == a, 'InitialHOS'].iloc[0] - 1  # Example: 1 hour less than HOS\n",
    "        model += lpSum(x_vars[a, l, t] for l in L) <= max_hours_before_rest, f\"Mandatory_Rest_{a}_{t}\"\n"
   ]
  },
  {
   "cell_type": "markdown",
   "metadata": {},
   "source": [
    "5.\tFlight Leg Assignment: A flight leg can only be assigned if it is either loaded or flown empty."
   ]
  },
  {
   "cell_type": "markdown",
   "metadata": {},
   "source": [
    "$$x_{lat} \\leq M \\cdot z_{la} \\quad \\text{for all } l, a, \\text{ and } t$$\n"
   ]
  },
  {
   "cell_type": "code",
   "execution_count": 33,
   "metadata": {},
   "outputs": [],
   "source": [
    "# Flight Leg Assignment Constraint\n",
    "M = 10000  # Large positive number for big-M method\n",
    "for a in filtered_aircraft_set:\n",
    "    for l in L:\n",
    "        for t in time_periods:\n",
    "            model += x_vars[a, l, t] <= M * z_vars[a, l], f\"Flight_Leg_Assignment_{a}_{l}_{t}\"\n"
   ]
  },
  {
   "cell_type": "markdown",
   "metadata": {},
   "source": [
    "## solve the model"
   ]
  },
  {
   "cell_type": "code",
   "execution_count": 34,
   "metadata": {},
   "outputs": [
    {
     "data": {
      "text/plain": [
       "1"
      ]
     },
     "execution_count": 34,
     "metadata": {},
     "output_type": "execute_result"
    }
   ],
   "source": [
    "model.solve()"
   ]
  },
  {
   "cell_type": "code",
   "execution_count": 35,
   "metadata": {},
   "outputs": [
    {
     "name": "stdout",
     "output_type": "stream",
     "text": [
      "Status: Optimal\n"
     ]
    }
   ],
   "source": [
    "print(\"Status:\", LpStatus[model.status])"
   ]
  },
  {
   "cell_type": "code",
   "execution_count": 36,
   "metadata": {},
   "outputs": [
    {
     "ename": "TypeError",
     "evalue": "'>' not supported between instances of 'NoneType' and 'int'",
     "output_type": "error",
     "traceback": [
      "\u001b[1;31m---------------------------------------------------------------------------\u001b[0m",
      "\u001b[1;31mTypeError\u001b[0m                                 Traceback (most recent call last)",
      "\u001b[1;32mm:\\OneDrive\\OPTYM\\code\\ARO.ipynb Cell 51\u001b[0m line \u001b[0;36m5\n\u001b[0;32m      <a href='vscode-notebook-cell:/m%3A/OneDrive/OPTYM/code/ARO.ipynb#Y103sZmlsZQ%3D%3D?line=1'>2</a>\u001b[0m \u001b[39mif\u001b[39;00m LpStatus[model\u001b[39m.\u001b[39mstatus] \u001b[39m==\u001b[39m \u001b[39m'\u001b[39m\u001b[39mOptimal\u001b[39m\u001b[39m'\u001b[39m:\n\u001b[0;32m      <a href='vscode-notebook-cell:/m%3A/OneDrive/OPTYM/code/ARO.ipynb#Y103sZmlsZQ%3D%3D?line=2'>3</a>\u001b[0m     \u001b[39m# Example: Print the values of decision variables\u001b[39;00m\n\u001b[0;32m      <a href='vscode-notebook-cell:/m%3A/OneDrive/OPTYM/code/ARO.ipynb#Y103sZmlsZQ%3D%3D?line=3'>4</a>\u001b[0m     \u001b[39mfor\u001b[39;00m var \u001b[39min\u001b[39;00m model\u001b[39m.\u001b[39mvariables():\n\u001b[1;32m----> <a href='vscode-notebook-cell:/m%3A/OneDrive/OPTYM/code/ARO.ipynb#Y103sZmlsZQ%3D%3D?line=4'>5</a>\u001b[0m         \u001b[39mif\u001b[39;00m var\u001b[39m.\u001b[39;49mvarValue \u001b[39m>\u001b[39;49m \u001b[39m0\u001b[39;49m:  \u001b[39m# Only print non-zero values\u001b[39;00m\n\u001b[0;32m      <a href='vscode-notebook-cell:/m%3A/OneDrive/OPTYM/code/ARO.ipynb#Y103sZmlsZQ%3D%3D?line=5'>6</a>\u001b[0m             \u001b[39mprint\u001b[39m(\u001b[39mf\u001b[39m\u001b[39m\"\u001b[39m\u001b[39m{\u001b[39;00mvar\u001b[39m.\u001b[39mname\u001b[39m}\u001b[39;00m\u001b[39m = \u001b[39m\u001b[39m{\u001b[39;00mvar\u001b[39m.\u001b[39mvarValue\u001b[39m}\u001b[39;00m\u001b[39m\"\u001b[39m)\n",
      "\u001b[1;31mTypeError\u001b[0m: '>' not supported between instances of 'NoneType' and 'int'"
     ]
    }
   ],
   "source": [
    "# # Retrieve and format the output if the solution is optimal\n",
    "# if LpStatus[model.status] == 'Optimal':\n",
    "#     # Example: Print the values of decision variables\n",
    "#     for var in model.variables():\n",
    "#         if var.varValue > 0:  # Only print non-zero values\n",
    "#             print(f\"{var.name} = {var.varValue}\")"
   ]
  },
  {
   "cell_type": "markdown",
   "metadata": {},
   "source": [
    "output csv"
   ]
  },
  {
   "cell_type": "code",
   "execution_count": 37,
   "metadata": {},
   "outputs": [
    {
     "name": "stdout",
     "output_type": "stream",
     "text": [
      "Output saved to 'output_flight_legs.csv'\n"
     ]
    }
   ],
   "source": [
    "import pandas as pd\n",
    "\n",
    "# Check if the model has an optimal solution\n",
    "if LpStatus[model.status] == 'Optimal':\n",
    "    # Initialize a list to store the output data\n",
    "    output_data = []\n",
    "\n",
    "    # Iterate over the x_vars to get the flight legs\n",
    "    for (a, (dep, arr), t), var in x_vars.items():\n",
    "        if var.varValue > 0:  # Check if the flight leg is used\n",
    "            # Create a dictionary for the row\n",
    "            row = {\n",
    "                \"ScenarioID\": \"BaseScenario\",  # Example scenario name\n",
    "                \"AircraftID\": a,\n",
    "                \"FlightLegSeqNumber\": None,  # To be determined how to calculate\n",
    "                \"DepAirport\": dep,\n",
    "                \"DepTime\": t  # Assuming 't' is the departure time\n",
    "            }\n",
    "            output_data.append(row)\n",
    "\n",
    "    # Create a DataFrame from the output data\n",
    "    output_df = pd.DataFrame(output_data)\n",
    "\n",
    "    # Sort and potentially modify the DataFrame as needed to match the schema fully\n",
    "    # ...\n",
    "\n",
    "    # Export to CSV\n",
    "    output_df.to_csv(\"output_flight_legs.csv\", index=False)\n",
    "\n",
    "    print(\"Output saved to 'output_flight_legs.csv'\")\n",
    "else:\n",
    "    print(\"No optimal solution found.\")\n"
   ]
  }
 ],
 "metadata": {
  "kernelspec": {
   "display_name": "venv",
   "language": "python",
   "name": "python3"
  },
  "language_info": {
   "codemirror_mode": {
    "name": "ipython",
    "version": 3
   },
   "file_extension": ".py",
   "mimetype": "text/x-python",
   "name": "python",
   "nbconvert_exporter": "python",
   "pygments_lexer": "ipython3",
   "version": "3.11.4"
  }
 },
 "nbformat": 4,
 "nbformat_minor": 2
}
