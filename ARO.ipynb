{
 "cells": [
  {
   "cell_type": "markdown",
   "metadata": {},
   "source": [
    "Based on the information provided in the \"Optym-Take-Home-Exam.pdf\" document, we can develop a Mixed Integer Linear Programming (MILP) model for the Aircraft Route Optimization Problem. The model will include complete notations for input parameters, decision variables, constraints, and the objective function."
   ]
  },
  {
   "cell_type": "markdown",
   "metadata": {},
   "source": [
    "# Input Parameters:"
   ]
  },
  {
   "cell_type": "markdown",
   "metadata": {},
   "source": [
    "\n",
    "1. <b>D</b>: Set of demands (customer flying requests).\n",
    "2. <b>A</b>: Set of aircraft.\n",
    "3. <b>L</b>: Set of flight legs.\n",
    "4. <b>T</b>: Time periods for planning (e.g., days).\n",
    "5. <b>C<sub>l</sub></b>: Operating cost for each flight leg <i>l ∈ L</i>.\n",
    "6. <b>R<sub>d</sub></b>: Revenue from fulfilling demand <i>d ∈ D</i>.\n",
    "7. <b>M</b>: Large positive number (for modeling purposes).\n",
    "8. <b>S<sub>la</sub></b>: Starting location of aircraft <i>a ∈ A</i> for leg <i>l ∈ L</i>.\n",
    "9. <b>E<sub>la</sub></b>: Ending location of aircraft <i>a ∈ A</i> for leg <i>l ∈ L</i>.\n",
    "10. <b>HOS<sub>a</sub></b>: Maximum hours of service for aircraft <i>a ∈ A</i>.\n",
    "11. <b>Rest<sub>a</sub></b>: Mandatory rest period for aircraft <i>a ∈ A</i> after <i>HOS<sub>a</sub></i> is reached.\n",
    "\n",
    "\n"
   ]
  },
  {
   "cell_type": "markdown",
   "metadata": {},
   "source": [
    "# Decision Variables:"
   ]
  },
  {
   "cell_type": "markdown",
   "metadata": {},
   "source": [
    "1.\tx_lat: Binary variable, 1 if aircraft a flies leg l at time t, 0 otherwise.\n",
    "2.\ty_dat: Binary variable, 1 if demand d is fulfilled at time t, 0 otherwise.\n",
    "3.\tz_la: Binary variable, 1 if leg l is flown empty by aircraft a, 0 otherwise.\n"
   ]
  },
  {
   "cell_type": "markdown",
   "metadata": {},
   "source": [
    "# Objective Function:"
   ]
  },
  {
   "cell_type": "markdown",
   "metadata": {},
   "source": [
    "Maximize total profit, which is the revenue from fulfilling demands minus the operating costs:\n"
   ]
  },
  {
   "cell_type": "markdown",
   "metadata": {},
   "source": [
    "$$\n",
    "\\text{Maximize } Z = \\sum_d \\sum_t R_d \\cdot y_{dat} - \\sum_l \\sum_a \\sum_t C_l \\cdot x_{lat}\n",
    "$$\n"
   ]
  },
  {
   "cell_type": "markdown",
   "metadata": {},
   "source": [
    "## import libraries"
   ]
  },
  {
   "cell_type": "code",
   "execution_count": 696,
   "metadata": {},
   "outputs": [],
   "source": [
    "from pulp import LpMaximize, LpProblem, LpVariable, lpSum, LpBinary, LpStatus\n",
    "import pandas as pd\n",
    "import pickle"
   ]
  },
  {
   "cell_type": "markdown",
   "metadata": {},
   "source": [
    "## load data"
   ]
  },
  {
   "cell_type": "code",
   "execution_count": 697,
   "metadata": {},
   "outputs": [],
   "source": [
    "aircraft_data = pd.read_csv(\"C:/Users/mrkha/OneDrive/Desktop/OPTYM/code/Aircraft.csv\")\n",
    "airports_data = pd.read_csv(\"C:/Users/mrkha/OneDrive/Desktop/OPTYM/code/Airports.csv\", encoding='ISO-8859-1')\n",
    "demands_file =  pd.read_csv(\"C:/Users/mrkha/OneDrive/Desktop/OPTYM/code/Demands.csv\")\n",
    "distance_time_file =  pd.read_csv(\"C:/Users/mrkha/OneDrive/Desktop/OPTYM/code/Distance and Flying Time.csv\")"
   ]
  },
  {
   "cell_type": "markdown",
   "metadata": {},
   "source": [
    "# scenario 1D: Focus on a single day: 24th July"
   ]
  },
  {
   "cell_type": "code",
   "execution_count": 698,
   "metadata": {},
   "outputs": [],
   "source": [
    "# specific_date = pd.Timestamp('2022-07-24')\n",
    "# demands_file['ScheduledDepDatetime'] = pd.to_datetime(demands_file['ScheduledDepDatetime'])\n",
    "# demands_file = demands_file[demands_file['ScheduledDepDatetime'].dt.date == specific_date.date()]"
   ]
  },
  {
   "cell_type": "markdown",
   "metadata": {},
   "source": [
    "# scenario 2D: Focus on a single day: 24th and 25th July"
   ]
  },
  {
   "cell_type": "code",
   "execution_count": 699,
   "metadata": {},
   "outputs": [],
   "source": [
    "specific_date = [pd.Timestamp('2022-07-24'), pd.Timestamp('2022-07-25')]\n",
    "demands_file['ScheduledDepDatetime'] = pd.to_datetime(demands_file['ScheduledDepDatetime'])\n",
    "demands_file = demands_file[demands_file['ScheduledDepDatetime'].dt.date.isin([date.date() for date in specific_date])]\n"
   ]
  },
  {
   "cell_type": "markdown",
   "metadata": {},
   "source": [
    "## preprocess"
   ]
  },
  {
   "cell_type": "code",
   "execution_count": 700,
   "metadata": {},
   "outputs": [],
   "source": [
    "aircraft_set = aircraft_data['AircraftID'].unique()\n",
    "demands_set = demands_file['DemandID'].unique()\n",
    "airports_set = airports_data['Airport Name'].unique() \n",
    "L = list(set(zip(distance_time_file['DepAirport'], distance_time_file['ArrAirport'])))\n",
    "time_periods = [date.date() for date in specific_date]"
   ]
  },
  {
   "cell_type": "markdown",
   "metadata": {},
   "source": [
    "input size is so big so here is how to reduce and filter the ac set and L"
   ]
  },
  {
   "cell_type": "code",
   "execution_count": 701,
   "metadata": {},
   "outputs": [],
   "source": [
    "# Filtering aircraft_set based on initial location\n",
    "preferred_locations = {'Location1', 'Location2'}  # Replace with actual locations of interest\n",
    "filtered_aircraft_set = [a for a in aircraft_set if aircraft_data[aircraft_data['AircraftID'] == a]['InitialLocation'].iloc[0] in preferred_locations]\n",
    "\n",
    "# Filtering L based on specific airport pairs\n",
    "relevant_airport_pairs = set(zip(distance_time_file['DepAirport'], distance_time_file['ArrAirport']))  # You can further filter this set as needed\n",
    "filtered_L = [(dep, arr) for (dep, arr) in L if (dep, arr) in relevant_airport_pairs]\n"
   ]
  },
  {
   "cell_type": "markdown",
   "metadata": {},
   "source": [
    "## parameters"
   ]
  },
  {
   "cell_type": "code",
   "execution_count": 702,
   "metadata": {},
   "outputs": [],
   "source": [
    "fixed_cost_per_leg = 10000\n",
    "# Operating cost for each flight leg \n",
    "operating_costs = {row['DepAirport'] + row['ArrAirport']: row['FlyingTime']\n",
    "                   for _, row in distance_time_file.iterrows()}\n",
    "#\n",
    "# Revenue from fulfilling demand \n",
    "revenue_per_demand = {row['DemandID']: row['PaxCount'] * 100  # Arbitrary revenue per passenger\n",
    "                      for _, row in demands_file.iterrows()}"
   ]
  },
  {
   "cell_type": "code",
   "execution_count": 703,
   "metadata": {},
   "outputs": [],
   "source": [
    "# Create a dictionary mapping each flight leg to its estimated block time (if demand exists)\n",
    "demand_block_time = {(row['DepAirport'], row['ArrAirport']): row['EstimatedBlocktime']\n",
    "                     for _, row in demands_file.iterrows() if not pd.isna(row['EstimatedBlocktime'])}\n",
    "\n",
    "# Create a dictionary mapping each flight leg to its flying time\n",
    "flying_time = {(row['DepAirport'], row['ArrAirport']): row['FlyingTime']\n",
    "               for _, row in distance_time_file.iterrows()}\n",
    "\n",
    "# Initialize operating_costs dictionary\n",
    "operating_costs = {}\n"
   ]
  },
  {
   "cell_type": "code",
   "execution_count": 704,
   "metadata": {},
   "outputs": [],
   "source": [
    "# Update travel time values for each flight leg\n",
    "for l in filtered_L:\n",
    "    dep_airport, arr_airport = l\n",
    "\n",
    "    # Check if there is a demand associated with this flight leg\n",
    "    if l in demand_block_time:\n",
    "        # Flight leg has an associated demand, use pre-calculated estimated block time\n",
    "        travel_time = demand_block_time[l]\n",
    "    else:\n",
    "        # Flight leg is empty, use pre-calculated travel time values\n",
    "        travel_time = flying_time.get(l, 0)  # Default to 0 if not found\n",
    "\n",
    "        # Check if the travel time exceeds the maximum flight range\n",
    "        if travel_time > 4.5:\n",
    "            # Flight leg requires refueling, add one hour to the travel time\n",
    "            travel_time += 1\n",
    "\n",
    "    # Update the travel time for this flight leg in the operating_costs dictionary\n",
    "    operating_costs[l] = travel_time\n"
   ]
  },
  {
   "cell_type": "markdown",
   "metadata": {},
   "source": [
    "## Model initialization"
   ]
  },
  {
   "cell_type": "code",
   "execution_count": 705,
   "metadata": {},
   "outputs": [],
   "source": [
    "model = LpProblem(\"Aircraft_Route_Optimization\", LpMaximize)"
   ]
  },
  {
   "cell_type": "markdown",
   "metadata": {},
   "source": [
    "## Decision Variables"
   ]
  },
  {
   "cell_type": "code",
   "execution_count": 706,
   "metadata": {},
   "outputs": [],
   "source": [
    "y_vars = LpVariable.dicts(\"y\", [(d, a, t) for d in demands_set for a in filtered_aircraft_set for t in time_periods], cat=LpBinary)"
   ]
  },
  {
   "cell_type": "code",
   "execution_count": 707,
   "metadata": {},
   "outputs": [],
   "source": [
    "x_vars = LpVariable.dicts(\"x\", \n",
    "                          [(a, l, t) for a in filtered_aircraft_set for l in filtered_L for t in time_periods], \n",
    "                          cat=LpBinary)"
   ]
  },
  {
   "cell_type": "code",
   "execution_count": 708,
   "metadata": {},
   "outputs": [],
   "source": [
    "z_vars = LpVariable.dicts(\"z\", \n",
    "                          [(a, l) for a in filtered_aircraft_set for l in filtered_L], \n",
    "                          cat=LpBinary)"
   ]
  },
  {
   "cell_type": "code",
   "execution_count": 709,
   "metadata": {},
   "outputs": [],
   "source": [
    "empty_leg_vars = LpVariable.dicts(\"EmptyLeg\", \n",
    "                                  [(a, l, t) for a in filtered_aircraft_set for l in filtered_L for t in time_periods], \n",
    "                                  cat=LpBinary)"
   ]
  },
  {
   "cell_type": "code",
   "execution_count": 710,
   "metadata": {},
   "outputs": [],
   "source": [
    "# x_vars = LpVariable.dicts(\"x\", [(a, l, t) for a in aircraft_set for l in L for t in time_periods], cat=LpBinary)\n",
    "# y_vars = LpVariable.dicts(\"y\", [(d, t) for d in demands_set for t in time_periods], cat=LpBinary)\n",
    "# z_vars = LpVariable.dicts(\"z\", [(a, l) for a in aircraft_set for l in L], cat=LpBinary)"
   ]
  },
  {
   "cell_type": "markdown",
   "metadata": {},
   "source": [
    "# Constraints"
   ]
  },
  {
   "cell_type": "markdown",
   "metadata": {},
   "source": [
    "1. -\tDemand Fulfillment: Each demand must be fulfilled at least once in the planning period.\n"
   ]
  },
  {
   "cell_type": "markdown",
   "metadata": {},
   "source": [
    "$$\\sum_{t} y_{dt} \\geq 1 \\quad \\text{for all } d$$\n"
   ]
  },
  {
   "cell_type": "code",
   "execution_count": 711,
   "metadata": {},
   "outputs": [],
   "source": [
    "# for d in demands_set:\n",
    "#     model += lpSum(y_vars[d, a, t] for a in filtered_aircraft_set for t in time_periods) >= 1, f\"Demand_Fulfillment_{d}\"\n",
    "\n"
   ]
  },
  {
   "cell_type": "markdown",
   "metadata": {},
   "source": [
    "2. -\tAircraft Route Continuity: Ensures that for each aircraft, the number of arrivals at an airport equals the number of departures."
   ]
  },
  {
   "cell_type": "markdown",
   "metadata": {},
   "source": [
    "$$\\sum_{l, S_{la} = k} X_{lat} = \\sum_{l, E_{la} = k} X_{lat} \\quad \\text{for all } a, t, \\text{ and } k \\text{ in airports}$$\n"
   ]
  },
  {
   "cell_type": "code",
   "execution_count": 712,
   "metadata": {},
   "outputs": [],
   "source": [
    "# for a in filtered_aircraft_set:\n",
    "#     for k in airports_set:  \n",
    "#         for t in time_periods:\n",
    "#             arrivals = lpSum(x_vars[a, (dep, arr), t] for (dep, arr) in filtered_L if arr == k)\n",
    "#             departures = lpSum(x_vars[a, (dep, arr), t] for (dep, arr) in filtered_L if dep == k)\n",
    "#             model += (arrivals == departures), f\"Aircraft_Route_Continuity_{a}_{k}_{t}\"\n"
   ]
  },
  {
   "cell_type": "markdown",
   "metadata": {},
   "source": [
    "3-\tAircraft Utilization Limit: Each aircraft cannot exceed its maximum hours of service."
   ]
  },
  {
   "cell_type": "markdown",
   "metadata": {},
   "source": [
    "$$\\sum_{l} \\sum_{t} x_{lat} \\leq \\text{HOS}_a \\quad \\text{for all } a$$\n"
   ]
  },
  {
   "cell_type": "code",
   "execution_count": 713,
   "metadata": {},
   "outputs": [],
   "source": [
    "# for a in filtered_aircraft_set:\n",
    "#     for t in time_periods:\n",
    "#         total_hours_of_operation = lpSum(x_vars[a, l, t] for l in filtered_L)\n",
    "#         # Allow for flexibility: Aircraft can be left unused or used < 12.5 hours\n",
    "#         model += (total_hours_of_operation <= 12.5), f\"Utilization_Limit_{a}_{t}\"\n"
   ]
  },
  {
   "cell_type": "markdown",
   "metadata": {},
   "source": [
    "4. \tMandatory Rest: After reaching the maximum HOS, the aircraft must observe a mandatory rest period."
   ]
  },
  {
   "cell_type": "markdown",
   "metadata": {},
   "source": [
    "$$\n",
    "\\begin{aligned}\n",
    "&\\text{If } \\quad l \\in L, \\quad \\sum x_{lat} = \\text{HOS}_a, \\text{ then} \\\\\n",
    "&\\quad l \\in L, \\quad \\sum x_{la(t+1)} = 0\n",
    "\\end{aligned}\n",
    "$$\n"
   ]
  },
  {
   "cell_type": "markdown",
   "metadata": {},
   "source": [
    "Given the complexity of directly implementing this as a linear constraint, a practical approach might be to set a utilization limit slightly less than the maximum HOS for each day, thereby implicitly allowing for rest time. This approach simplifies the model while achieving the intended outcome of ensuring rest periods."
   ]
  },
  {
   "cell_type": "code",
   "execution_count": 714,
   "metadata": {},
   "outputs": [],
   "source": [
    "# for a in filtered_aircraft_set:\n",
    "#     for t in range(len(time_periods) - 1): \n",
    "#         current_time = time_periods[t]\n",
    "#         next_time = time_periods[t + 1]\n",
    "#         time_difference = (next_time - current_time).total_seconds() / 3600\n",
    "\n",
    "#         if time_difference >= 12.5:\n",
    "#             model += (time_difference >= 22.5), f\"Mandatory_Rest_{a}_{current_time}\"\n",
    "\n"
   ]
  },
  {
   "cell_type": "markdown",
   "metadata": {},
   "source": [
    "5.\tFlight Leg Assignment: A flight leg can only be assigned if it is either loaded or flown empty."
   ]
  },
  {
   "cell_type": "markdown",
   "metadata": {},
   "source": [
    "$$x_{lat} \\leq M \\cdot z_{la} \\quad \\text{for all } l, a, \\text{ and } t$$\n"
   ]
  },
  {
   "cell_type": "code",
   "execution_count": 715,
   "metadata": {},
   "outputs": [],
   "source": [
    "# M = 10000  \n",
    "# for a in filtered_aircraft_set:\n",
    "#     for l in filtered_L:\n",
    "#         for t in time_periods:\n",
    "#             model += x_vars[a, l, t] <= M * z_vars[a, l], f\"Flight_Leg_Assignment_{a}_{l}_{t}\"\n"
   ]
  },
  {
   "cell_type": "code",
   "execution_count": 716,
   "metadata": {},
   "outputs": [],
   "source": [
    "# for l in filtered_L:\n",
    "#     # Ensure that the sum of assignment variables for this flight leg is at most 1\n",
    "#     model += lpSum(x_vars[a, l, t] for a in filtered_aircraft_set for t in time_periods) <= 1, f\"Assignment_{l}\""
   ]
  },
  {
   "cell_type": "code",
   "execution_count": 717,
   "metadata": {},
   "outputs": [],
   "source": [
    "# for a in filtered_aircraft_set:\n",
    "#     for t in time_periods:\n",
    "#         max_capacity = aircraft_data.loc[aircraft_data['AircraftID'] == a, 'MaxPax'].iloc[0]\n",
    "#         assigned_passengers = lpSum(revenue_per_demand[d] * y_vars[d, t] for d in demands_set if (d, t) in y_vars)\n",
    "        \n",
    "#         # Add the constraint that ensures passenger capacity is not exceeded\n",
    "#         model += assigned_passengers <= max_capacity, f\"Passenger_Capacity_{a}_{t}\"\n"
   ]
  },
  {
   "cell_type": "code",
   "execution_count": 718,
   "metadata": {},
   "outputs": [],
   "source": [
    "# # Add a constraint to ensure turn-around time is honored for each aircraft\n",
    "# for a in filtered_aircraft_set:\n",
    "#     for t in time_periods[:-1]: \n",
    "#         turn_around_time = aircraft_data.loc[aircraft_data['AircraftID'] == a, 'TurnAroundTime'].iloc[0]\n",
    "#         available_time = lpSum(x_vars[a, l, t_prev] for l in filtered_L for t_prev in time_periods if t_prev < t) + turn_around_time\n",
    "        \n",
    "#         # Ensure that the aircraft becomes available for the next flight after the turn-around time\n",
    "#         model += available_time <= lpSum(x_vars[a, l, t] for l in filtered_L)\n"
   ]
  },
  {
   "cell_type": "code",
   "execution_count": 719,
   "metadata": {},
   "outputs": [],
   "source": [
    "# # Define the constraint for each aircraft\n",
    "# for a in filtered_aircraft_set:\n",
    "#     model += lpSum(x_vars[a, l, t] for l in filtered_L for t in time_periods) <= 1, f\"Single_Route_Constraint_{a}\"\n"
   ]
  },
  {
   "cell_type": "code",
   "execution_count": 720,
   "metadata": {},
   "outputs": [],
   "source": [
    "# # Ensure that each demand is assigned to at most one aircraft\n",
    "# for d in demands_set:\n",
    "#     model += lpSum(y_vars[d, a, t] for a in filtered_aircraft_set for t in time_periods) <= 1, f\"Single_Aircraft_Assignment_{d}\""
   ]
  },
  {
   "cell_type": "code",
   "execution_count": 721,
   "metadata": {},
   "outputs": [],
   "source": [
    "# # Ensure that all demands are satisfied\n",
    "# for d in demands_set:\n",
    "#     model += lpSum(y_vars[d, a, t] for a in filtered_aircraft_set for t in time_periods) >= 1, f\"Satisfy_Demand_{d}\"\n"
   ]
  },
  {
   "cell_type": "code",
   "execution_count": 722,
   "metadata": {},
   "outputs": [],
   "source": [
    "# # Ensure that aircraft departure time aligns with scheduled departure datetime of demands\n",
    "# for d in demands_set:\n",
    "#     for a in filtered_aircraft_set:\n",
    "#         for t in time_periods:\n",
    "#             # Use a binary variable to indicate if the demand is served by the aircraft at time t\n",
    "#             model += x_vars[a, d, t] <= y_vars[d, a, t], f\"Departure_Sync_{a}_{d}_{t}\"\n"
   ]
  },
  {
   "cell_type": "code",
   "execution_count": 723,
   "metadata": {},
   "outputs": [],
   "source": [
    "# # Ensure that the first flight leg of each aircraft starts from its initial available location\n",
    "# for a in filtered_aircraft_set:\n",
    "#     initial_location = aircraft_data.loc[aircraft_data['AircraftID'] == a, 'InitialLocation'].iloc[0]\n",
    "#     # For each potential destination from the initial location\n",
    "#     for arr_airport in airports_set:\n",
    "#         if (initial_location, arr_airport) in filtered_L:\n",
    "#             # Ensure that if the aircraft flies at the first time period, it departs from its initial location\n",
    "#             model += x_vars[a, (initial_location, arr_airport), time_periods[0]] <= z_vars[a, (initial_location, arr_airport)], f\"Initial_Departure_{a}_{initial_location}_{arr_airport}\"\n",
    "\n"
   ]
  },
  {
   "cell_type": "code",
   "execution_count": 724,
   "metadata": {},
   "outputs": [],
   "source": [
    "# # Constraint to ensure that each aircraft starts from its initial location\n",
    "# for a in filtered_aircraft_set:\n",
    "#     initial_location = aircraft_data.loc[aircraft_data['AircraftID'] == a, 'InitialLoca'].iloc[0]\n",
    "#     model += lpSum(x_vars[a, (initial_location, dest), time_periods[0]] \n",
    "#                    for dest in airports_set if (initial_location, dest) in filtered_L) == 1, f\"Start_From_Initial_Location_{a}\"\n"
   ]
  },
  {
   "cell_type": "code",
   "execution_count": 725,
   "metadata": {},
   "outputs": [],
   "source": [
    "# # Constraint to ensure that the total scheduled hours do not exceed the Initial HOS for each aircraft\n",
    "# for a in filtered_aircraft_set:\n",
    "#     initial_hos = aircraft_data.loc[aircraft_data['AircraftID'] == a, 'InitialHOS'].iloc[0]\n",
    "#     # Assuming 'operating_costs' is a dictionary with keys as (dep, arr) tuples and values as hours\n",
    "#     model += lpSum(operating_costs[(dep, arr)] * x_vars[a, (dep, arr), t] \n",
    "#                    for (dep, arr) in filtered_L for t in time_periods) <= initial_hos, f\"Max_HOS_{a}\"\n"
   ]
  },
  {
   "cell_type": "code",
   "execution_count": 726,
   "metadata": {},
   "outputs": [],
   "source": [
    "# # Add constraints to define when a leg is empty\n",
    "# for a in filtered_aircraft_set:\n",
    "#     for l in filtered_L:\n",
    "#         for t in time_periods:\n",
    "#             # An empty leg is one that is flown (x_vars) but not servicing a demand (y_vars)\n",
    "#             # Assuming 'd' represents demand legs, modify as necessary for your code\n",
    "#             model += empty_leg_vars[a, l, t] >= x_vars[a, l, t] - lpSum(y_vars[d, a, t] for d in demands_set if d == l), f\"Empty_Leg_Definition_{a}_{l}_{t}\""
   ]
  },
  {
   "cell_type": "markdown",
   "metadata": {},
   "source": [
    "## objective function\n"
   ]
  },
  {
   "cell_type": "code",
   "execution_count": 727,
   "metadata": {},
   "outputs": [],
   "source": [
    "# Objective Function Components\n",
    "\n",
    "# Revenue: Sum of revenue for fulfilling each demand\n",
    "revenue = lpSum(revenue_per_demand[d] * y_vars[d, a, t] for d in demands_set for a in filtered_aircraft_set for t in time_periods)\n",
    "\n",
    "# Operational Costs: Sum of operating costs for all flight legs\n",
    "operational_cost = lpSum(operating_costs[l] * x_vars[a, l, t] for a in filtered_aircraft_set for l in filtered_L for t in time_periods)\n",
    "\n",
    "# Empty Leg Costs: Assuming you have a penalty cost for each empty leg\n",
    "# Replace 'empty_leg_penalty' with the actual penalty cost per empty leg\n",
    "empty_leg_penalty = 100000  # Example penalty cost, adjust as needed\n",
    "empty_leg_cost = lpSum(empty_leg_penalty * empty_leg_vars[a, l, t] for a in filtered_aircraft_set for l in filtered_L for t in time_periods)\n",
    "\n",
    "# Defining the Objective Function\n",
    "# Objective: Maximize profit (revenue - operational cost - empty leg cost)\n",
    "model += revenue - operational_cost - empty_leg_cost, \"Total_Profit\"\n"
   ]
  },
  {
   "cell_type": "markdown",
   "metadata": {},
   "source": [
    "## solve the model"
   ]
  },
  {
   "cell_type": "markdown",
   "metadata": {},
   "source": [
    "Focus of optimization search on maximization of total profit"
   ]
  },
  {
   "cell_type": "code",
   "execution_count": 728,
   "metadata": {},
   "outputs": [
    {
     "name": "stdout",
     "output_type": "stream",
     "text": [
      "Optimal Solution Found!\n"
     ]
    }
   ],
   "source": [
    "# Solving the Model\n",
    "model.solve()\n",
    "\n",
    "if LpStatus[model.status] == 'Optimal':\n",
    "    print(\"Optimal Solution Found!\")\n",
    "    # Print the values of decision variables\n",
    "    for var in model.variables():\n",
    "        if var.varValue is not None and var.varValue > 0:\n",
    "            print(var.name, \"=\", var.varValue)\n",
    "else:\n",
    "    print(\"No optimal solution found. Status:\", LpStatus[model.status])\n",
    "\n",
    "# model.writeLP(\"model.lp\")"
   ]
  },
  {
   "cell_type": "markdown",
   "metadata": {},
   "source": [
    "output csv"
   ]
  }
 ],
 "metadata": {
  "kernelspec": {
   "display_name": "venv",
   "language": "python",
   "name": "python3"
  },
  "language_info": {
   "codemirror_mode": {
    "name": "ipython",
    "version": 3
   },
   "file_extension": ".py",
   "mimetype": "text/x-python",
   "name": "python",
   "nbconvert_exporter": "python",
   "pygments_lexer": "ipython3",
   "version": "3.11.4"
  }
 },
 "nbformat": 4,
 "nbformat_minor": 2
}
