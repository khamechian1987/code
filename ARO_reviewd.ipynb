{
 "cells": [
  {
   "cell_type": "markdown",
   "metadata": {},
   "source": [
    "\n",
    "This document contains a mathematical Mixed Integer Linear Programming (MILP) model and its corresponding code. Here's an overview of the report:\n",
    "\n",
    "- The report is presented as a Jupyter notebook, with each code block of code is explained by markdown cells that explain its function. \n",
    "- The formulations for the model are presented here, and following each formulation, the corresponding code is provided below it.\n",
    "- Approximately 10-12 hours were invested in this project.\n",
    "- Despite the effort, a feasible solution was not produced. The computation of decision variables takes about 20 minutes and then the - - - process crashes. Here are some strategies attempted to resolve this issue:\n",
    "- - The Pulp solver, a free tool, is currently in use. One alternative could be to test the model with CPLEX or another commercial solver to see if that enhances performance. The decision variable X is programmed in different ways applicable to use CPLEX for demonstration.\n",
    "- - Another approach is to refine the input data filtering process to capture only necessary information instead of the entire dataset.\n",
    "\n",
    "I appologize for not being able to dedicate more time due to my existing workload.\n",
    "\n",
    "\n",
    "\n",
    "\n"
   ]
  },
  {
   "cell_type": "markdown",
   "metadata": {},
   "source": [
    "# Input Parameters:"
   ]
  },
  {
   "cell_type": "markdown",
   "metadata": {},
   "source": [
    "Defined and used per as needed through the document"
   ]
  },
  {
   "cell_type": "markdown",
   "metadata": {},
   "source": [
    "# Decision Variables:"
   ]
  },
  {
   "cell_type": "markdown",
   "metadata": {},
   "source": [
    "<b>x<sub>lat</sub></b>: Binary decision variable it's 1 if aircraft <i>a</i> is assigned to fly leg <i>l</i> at time <i>t</i>, and 0 otherwise. \n",
    "\n",
    "<b>y<sub>dat</sub></b>: Binary decision variable. It takes a value of 1 if demand <i>d</i> is fulfilled by aircraft <i>a</i> at time <i>t</i>, and 0 otherwise. \n",
    "\n",
    "<b>z<sub>la</sub></b>: Binary decision variable. It takes a value of 1 if leg <i>l</i> is flown empty by aircraft <i>a</i>, and 0 otherwise. \n",
    "\n",
    "<b>empty_leg_vars<sub>alt</sub></b>: Binary decision variable. It takes a value of 1 if aircraft <i>a</i> flies leg <i>l</i> empty (without passengers) at time <i>t</i>, and 0 otherwise.\n"
   ]
  },
  {
   "cell_type": "markdown",
   "metadata": {},
   "source": [
    "## Import libraries"
   ]
  },
  {
   "cell_type": "code",
   "execution_count": null,
   "metadata": {},
   "outputs": [],
   "source": [
    "from pulp import LpMaximize, LpProblem, LpVariable, lpSum, LpBinary, LpStatus\n",
    "import pandas as pd\n",
    "# import cplex\n"
   ]
  },
  {
   "cell_type": "markdown",
   "metadata": {},
   "source": [
    "## load data"
   ]
  },
  {
   "cell_type": "code",
   "execution_count": null,
   "metadata": {},
   "outputs": [],
   "source": [
    "aircraft_data = pd.read_csv(\"C:/Users/mrkha/OneDrive/Desktop/OPTYM/code/Aircraft.csv\")\n",
    "airports_data = pd.read_csv(\"C:/Users/mrkha/OneDrive/Desktop/OPTYM/code/Airports.csv\", encoding='ISO-8859-1')\n",
    "demands_file =  pd.read_csv(\"C:/Users/mrkha/OneDrive/Desktop/OPTYM/code/Demands.csv\")\n",
    "distance_time_file =  pd.read_csv(\"C:/Users/mrkha/OneDrive/Desktop/OPTYM/code/Distance and Flying Time.csv\")"
   ]
  },
  {
   "cell_type": "markdown",
   "metadata": {},
   "source": [
    "Check for missing data"
   ]
  },
  {
   "cell_type": "code",
   "execution_count": null,
   "metadata": {},
   "outputs": [],
   "source": [
    "aircraft_data.isnull().sum()\n",
    "airports_data.isnull().sum()\n",
    "demands_file.isnull().sum()\n",
    "distance_time_file.isnull().sum()\n"
   ]
  },
  {
   "cell_type": "markdown",
   "metadata": {},
   "source": [
    "# Scenario 1D: Focus on a single day: 24th July"
   ]
  },
  {
   "cell_type": "code",
   "execution_count": null,
   "metadata": {},
   "outputs": [],
   "source": [
    "specific_date = pd.Timestamp('2022-07-24')\n",
    "demands_file['ScheduledDepDatetime'] = pd.to_datetime(demands_file['ScheduledDepDatetime'])\n",
    "demands_file = demands_file[demands_file['ScheduledDepDatetime'].dt.date == specific_date.date()]"
   ]
  },
  {
   "cell_type": "markdown",
   "metadata": {},
   "source": [
    "# Scenario 2D: Focus on a single day: 24th and 25th July"
   ]
  },
  {
   "cell_type": "code",
   "execution_count": null,
   "metadata": {},
   "outputs": [],
   "source": [
    "# specific_date = [pd.Timestamp('2022-07-24'), pd.Timestamp('2022-07-25')]\n",
    "# demands_file['ScheduledDepDatetime'] = pd.to_datetime(demands_file['ScheduledDepDatetime'])\n",
    "# demands_file = demands_file[demands_file['ScheduledDepDatetime'].dt.date.isin([date.date() for date in specific_date])]\n"
   ]
  },
  {
   "cell_type": "markdown",
   "metadata": {},
   "source": [
    "## Preprocess"
   ]
  },
  {
   "cell_type": "code",
   "execution_count": null,
   "metadata": {},
   "outputs": [],
   "source": [
    "aircraft_set = aircraft_data['AircraftID'].unique()\n",
    "demands_set = demands_file['DemandID'].unique()\n",
    "airports_set = airports_data['Airport Name'].unique() \n",
    "L = list(set(zip(distance_time_file['DepAirport'], distance_time_file['ArrAirport'])))\n",
    "# time_periods = [date.date() for date in specific_date] # for 2 day scenarios\n",
    "time_periods = [specific_date.date()] # for 1 day scenarios\n"
   ]
  },
  {
   "cell_type": "code",
   "execution_count": null,
   "metadata": {},
   "outputs": [],
   "source": [
    "print(len(demands_set))\n",
    "print(len(aircraft_set))\n",
    "print(len(L))"
   ]
  },
  {
   "cell_type": "markdown",
   "metadata": {},
   "source": [
    "-- L is problematic because is large so lets filter it"
   ]
  },
  {
   "cell_type": "code",
   "execution_count": null,
   "metadata": {},
   "outputs": [],
   "source": [
    "max_distance = 1500  # 1,500 nautical miles\n",
    "filtered_distance_time_file = distance_time_file[distance_time_file['Distance'] <= max_distance]\n",
    "L = list(set(zip(filtered_distance_time_file['DepAirport'], filtered_distance_time_file['ArrAirport'])))"
   ]
  },
  {
   "cell_type": "code",
   "execution_count": null,
   "metadata": {},
   "outputs": [],
   "source": [
    "print(len(L))"
   ]
  },
  {
   "cell_type": "markdown",
   "metadata": {},
   "source": [
    "## Parameters"
   ]
  },
  {
   "cell_type": "code",
   "execution_count": null,
   "metadata": {},
   "outputs": [],
   "source": [
    "operating_cost_per_hour = 1500  # USD 1,500 per flying hour\n",
    "\n",
    "operating_costs = {row['DepAirport'] + row['ArrAirport']: row['FlyingTime'] * operating_cost_per_hour\n",
    "                   for _, row in distance_time_file.iterrows()}\n",
    "\n",
    "revenue_per_hour = 5000  # USD 5,000 per flying hour\n",
    "\n",
    "revenue_per_demand = {row['DemandID']: row['EstimatedBlocktime'] * revenue_per_hour\n",
    "                      for _, row in demands_file.iterrows()}\n"
   ]
  },
  {
   "cell_type": "code",
   "execution_count": null,
   "metadata": {},
   "outputs": [],
   "source": [
    "# Create a dictionary mapping each flight leg to its estimated block time (if demand exists)\n",
    "demand_block_time = {(row['DepAirport'], row['ArrAirport']): row['EstimatedBlocktime']\n",
    "                     for _, row in demands_file.iterrows() if not pd.isna(row['EstimatedBlocktime'])}\n",
    "\n",
    "# Create a dictionary mapping each flight leg to its flying time\n",
    "flying_time = {(row['DepAirport'], row['ArrAirport']): row['FlyingTime']\n",
    "               for _, row in distance_time_file.iterrows()}\n",
    "\n"
   ]
  },
  {
   "cell_type": "code",
   "execution_count": null,
   "metadata": {},
   "outputs": [],
   "source": [
    "for l in L:\n",
    "    dep_airport, arr_airport = l\n",
    "\n",
    "    if l in demand_block_time:\n",
    "        travel_time = demand_block_time[l]\n",
    "    else:\n",
    "        # Flight leg is empty, use travel time values from input data tables\n",
    "        travel_time = flying_time.get(l, 0)  # Default to 0 if not found\n",
    "\n",
    "         # Check if the travel time exceeds the maximum flight range\n",
    "        if travel_time > 4.5:\n",
    "            # Flight leg requires refueling, add one hour to the travel time\n",
    "            travel_time += 1\n",
    "\n",
    "    # operating_costs[l] = travel_time # here is missing the operating cost for each flight leg\n",
    "    operating_costs[l] = travel_time * operating_cost_per_hour\n"
   ]
  },
  {
   "cell_type": "markdown",
   "metadata": {},
   "source": [
    "## Model initialization"
   ]
  },
  {
   "cell_type": "code",
   "execution_count": null,
   "metadata": {},
   "outputs": [],
   "source": [
    "model = LpProblem(\"Aircraft_Route_Optimization\", LpMaximize)\n",
    "# model = cplex.Cplex()"
   ]
  },
  {
   "cell_type": "markdown",
   "metadata": {},
   "source": [
    "## Decision Variables"
   ]
  },
  {
   "cell_type": "code",
   "execution_count": null,
   "metadata": {},
   "outputs": [],
   "source": [
    "y_vars = LpVariable.dicts(\"y\", [(d, a, t) for d in demands_set \n",
    "                                for a in aircraft_set for t in time_periods], cat=LpBinary)"
   ]
  },
  {
   "cell_type": "code",
   "execution_count": null,
   "metadata": {},
   "outputs": [],
   "source": [
    "x_vars = LpVariable.dicts(\"x\", \n",
    "                          [(a, l, t) for a in aircraft_set for l in L for t in time_periods], \n",
    "                          cat=LpBinary)"
   ]
  },
  {
   "cell_type": "code",
   "execution_count": null,
   "metadata": {},
   "outputs": [],
   "source": [
    "# # demonstration for testing with CPLEX\n",
    "# x_var_names = [\"x_\" + \"_\".join([str(a), str(l), str(t)]) for a in aircraft_set for l in L for t in time_periods]\n",
    "\n",
    "# # Add the binary variables to the CPLEX model\n",
    "# model.variables.add(names=x_var_names, types=[model.variables.type.binary] * len(x_var_names))\n",
    "\n",
    "# # Now 'x_vars' in the CPLEX model corresponds to the binary decision variables"
   ]
  },
  {
   "cell_type": "code",
   "execution_count": null,
   "metadata": {},
   "outputs": [],
   "source": [
    "#TODO: this coulbe deleted\n",
    "# z_vars = LpVariable.dicts(\"z\", \n",
    "#                           [(a, l) for a in aircraft_set for l in L], \n",
    "#                           cat=LpBinary)"
   ]
  },
  {
   "cell_type": "code",
   "execution_count": null,
   "metadata": {},
   "outputs": [],
   "source": [
    "empty_leg_vars = LpVariable.dicts(\"EmptyLeg\", \n",
    "                                  [(a, l, t) for a in aircraft_set for l in L for t in time_periods], \n",
    "                                  cat=LpBinary)"
   ]
  },
  {
   "cell_type": "markdown",
   "metadata": {},
   "source": [
    "# Constraints"
   ]
  },
  {
   "cell_type": "markdown",
   "metadata": {},
   "source": [
    "1. Demand Fulfillment: Each demand must be fulfilled at least once in the planning period.\n"
   ]
  },
  {
   "cell_type": "markdown",
   "metadata": {},
   "source": [
    "$$\\sum_{t} y_{dt} \\geq 1 \\quad \\text{for all } d$$\n"
   ]
  },
  {
   "cell_type": "code",
   "execution_count": null,
   "metadata": {},
   "outputs": [],
   "source": [
    "# for d in demands_set:\n",
    "#     model += lpSum(y_vars[d, a, t] for a in aircraft_set for t in time_periods) >= 1, f\"Demand_Fulfillment_{d}\"\n"
   ]
  },
  {
   "cell_type": "markdown",
   "metadata": {},
   "source": [
    "---above constraint is redundant because it is defined again later. also in formulation, it is missing a and its sumation sign"
   ]
  },
  {
   "cell_type": "markdown",
   "metadata": {},
   "source": [
    " \n",
    "2. Aircraft Route Continuity: Ensures that for each aircraft, the number of arrivals at an airport equals the number of departures."
   ]
  },
  {
   "cell_type": "code",
   "execution_count": null,
   "metadata": {},
   "outputs": [],
   "source": [
    "#TODO: the formulation representation could be better"
   ]
  },
  {
   "cell_type": "markdown",
   "metadata": {},
   "source": [
    "$$\\sum_{l, S_{la} = k} X_{lat} = \\sum_{l, E_{la} = k} X_{lat} \\quad \\text{for all } a, t, \\text{ and } k \\text{ in airports}$$\n"
   ]
  },
  {
   "cell_type": "markdown",
   "metadata": {},
   "source": [
    "it iterates through flight legs and check number of arrivals for each airport must be equal to number of departures"
   ]
  },
  {
   "cell_type": "code",
   "execution_count": null,
   "metadata": {},
   "outputs": [],
   "source": [
    "for a in aircraft_set:\n",
    "    for k in airports_set:  \n",
    "        for t in time_periods:\n",
    "            arrivals = lpSum(x_vars[a, (dep, arr), t] for (dep, arr) in L if arr == k)\n",
    "            departures = lpSum(x_vars[a, (dep, arr), t] for (dep, arr) in L if dep == k)\n",
    "            model += (arrivals == departures), f\"Aircraft_Route_Continuity_{a}_{k}_{t}\"\n"
   ]
  },
  {
   "cell_type": "markdown",
   "metadata": {},
   "source": [
    "3. Aircraft Utilization Limit: Each aircraft cannot exceed its maximum hours of service. "
   ]
  },
  {
   "cell_type": "markdown",
   "metadata": {},
   "source": [
    "$$\\sum_{l} \\sum_{t} x_{lat} \\leq \\text{HOS}_a \\quad \\text{for all } a$$\n"
   ]
  },
  {
   "cell_type": "code",
   "execution_count": 21,
   "metadata": {},
   "outputs": [],
   "source": [
    "# for a in aircraft_set:\n",
    "#     for t in time_periods:\n",
    "#         total_hours_of_operation = lpSum(x_vars[a, l, t] for l in L)\n",
    "#         model += (total_hours_of_operation <= 12.5), f\"Utilization_Limit_{a}_{t}\" #did not defined new parameter for HOS because it was 12.5 for all aircrafts\n",
    "\n",
    "### TODO:correction ###\n",
    "for a in aircraft_set:\n",
    "    # Sum across all legs and all time periods for aircraft 'a'\n",
    "    total_hours_of_operation = lpSum(x_vars[a, l, t] for l in L for t in time_periods)\n",
    "    model += (total_hours_of_operation <= 12.5), f\"Utilization_Limit_{a}\"\n"
   ]
  },
  {
   "cell_type": "markdown",
   "metadata": {},
   "source": [
    "4. \tMandatory Rest: After reaching the maximum HOS, the aircraft must observe a mandatory rest period."
   ]
  },
  {
   "cell_type": "markdown",
   "metadata": {},
   "source": [
    "$$\n",
    "\\begin{aligned}\n",
    "&\\text{If } \\quad l \\in L, \\quad \\sum x_{lat} = \\text{HOS}_a, \\text{ then} \\\\\n",
    "&\\quad l \\in L, \\quad \\sum x_{la(t+1)} = 0\n",
    "\\end{aligned}\n",
    "$$\n"
   ]
  },
  {
   "cell_type": "markdown",
   "metadata": {},
   "source": [
    "Given the complexity of directly implementing this as a linear constraint, a practical approach might be to set a utilization limit slightly less than the maximum HOS for each day, thereby implicitly allowing for rest time. This approach simplifies the model while achieving the intended outcome of ensuring rest periods."
   ]
  },
  {
   "cell_type": "markdown",
   "metadata": {},
   "source": [
    " ----- this constraint is written wrong in formulation ----"
   ]
  },
  {
   "cell_type": "code",
   "execution_count": null,
   "metadata": {},
   "outputs": [],
   "source": [
    "#TODO: this constraint is wrong\n",
    "for a in aircraft_set:\n",
    "    for t in range(len(time_periods) - 1): \n",
    "        current_time = time_periods[t]\n",
    "        next_time = time_periods[t + 1]\n",
    "        time_difference = (next_time - current_time).total_seconds() / 3600\n",
    "\n",
    "        if time_difference >= 12.5:\n",
    "            # model += (time_difference >= 22.5), f\"Mandatory_Rest_{a}_{current_time}\"\n",
    "            time_difference += 10\n"
   ]
  },
  {
   "cell_type": "markdown",
   "metadata": {},
   "source": [
    "5.\tFlight Leg Assignment: A flight leg can only be assigned if it is either loaded or flown empty."
   ]
  },
  {
   "cell_type": "markdown",
   "metadata": {},
   "source": [
    "$$x_{lat} \\leq M \\cdot z_{la} \\quad \\text{for all } l, a, \\text{ and } t$$\n"
   ]
  },
  {
   "cell_type": "code",
   "execution_count": null,
   "metadata": {},
   "outputs": [],
   "source": [
    "M = 10000  \n",
    "for a in aircraft_set:\n",
    "    for l in L:\n",
    "        for t in time_periods:\n",
    "            #model += x_vars[a, l, t] <= M * z_vars[a, l], f\"Flight_Leg_Assignment_{a}_{l}_{t}\"\n",
    "            model += x_vars[a, l, t] <= M * empty_leg_vars[a, l, t], f\"Flight_Leg_Assignment_{a}_{l}_{t}\"\n"
   ]
  },
  {
   "cell_type": "markdown",
   "metadata": {},
   "source": [
    "--- this is wrong --- \n",
    "it should be:"
   ]
  },
  {
   "cell_type": "markdown",
   "metadata": {},
   "source": [
    "$$\n",
    "\\forall l \\in L, \\forall a \\in \\text{Aircraft Set}, \\forall t \\in \\text{Time Periods}: x_{lat} + y_{lat} \\leq 1\n",
    "$$"
   ]
  },
  {
   "cell_type": "code",
   "execution_count": null,
   "metadata": {},
   "outputs": [],
   "source": [
    "for l in L:\n",
    "    for a in aircraft_set:\n",
    "        for t in time_periods:\n",
    "            model += x_vars[a, l, t] + empty_leg_vars[a, l, t] <= 1, f\"Flight_Leg_Assignment_{l}_{a}_{t}\"\n"
   ]
  },
  {
   "cell_type": "markdown",
   "metadata": {},
   "source": [
    "6. Ensures that each flight leg l is assigned to at most one aircraft "
   ]
  },
  {
   "cell_type": "markdown",
   "metadata": {},
   "source": [
    "$$\n",
    "\\sum_{a \\in A} \\sum_{t \\in T} x_{alt} \\leq 1 \\quad \\forall l \\in L\n",
    "$$"
   ]
  },
  {
   "cell_type": "code",
   "execution_count": null,
   "metadata": {},
   "outputs": [],
   "source": [
    "for l in L:\n",
    "    model += lpSum(x_vars[a, l, t] for a in aircraft_set for t in time_periods) <= 1, f\"Assignment_{l}\""
   ]
  },
  {
   "cell_type": "markdown",
   "metadata": {},
   "source": [
    "---next constraint is not needed. there is no info regarding maxpax----"
   ]
  },
  {
   "cell_type": "markdown",
   "metadata": {},
   "source": [
    "7. Ensures the passenger capacity of an aircraft is not exceeded for each aircraft and each time period"
   ]
  },
  {
   "cell_type": "markdown",
   "metadata": {},
   "source": [
    "$$\n",
    "\\sum_{d \\in D : (d,a,t) \\in y\\_vars} RevenuePerDemand_d \\cdot y_{dat} \\leq MaxPax_a \\quad \\forall a \\in A, \\forall t \\in T\n",
    "$$"
   ]
  },
  {
   "cell_type": "code",
   "execution_count": null,
   "metadata": {},
   "outputs": [],
   "source": [
    "for a in aircraft_set:\n",
    "    for t in time_periods:\n",
    "        max_capacity = aircraft_data.loc[aircraft_data['AircraftID'] == a, 'MaxPax'].iloc[0]\n",
    "        assigned_passengers = lpSum(revenue_per_demand[d] * y_vars[d,a,t] for d in demands_set if (d,a,t) in y_vars)\n",
    "        model += assigned_passengers <= max_capacity, f\"Passenger_Capacity_{a}_{t}\"\n"
   ]
  },
  {
   "cell_type": "markdown",
   "metadata": {},
   "source": [
    "---in next constraint, turnaround time is wrong. it is given az one hour"
   ]
  },
  {
   "cell_type": "markdown",
   "metadata": {},
   "source": [
    "8.  Ensures an aircraft is available for its next flight only after accounting for the required turn-around time"
   ]
  },
  {
   "cell_type": "markdown",
   "metadata": {},
   "source": [
    "$$\n",
    "\\sum_{l \\in L} \\sum_{t_{prev} \\in T : t_{prev} < t} x_{al_{t_{prev}}} + TurnAroundTime_a \\leq \\sum_{l \\in L} x_{al_{t+1}} \\quad \\forall a \\in A, \\forall t \\in T \\setminus \\{last\\}\n",
    "$$"
   ]
  },
  {
   "cell_type": "code",
   "execution_count": null,
   "metadata": {},
   "outputs": [],
   "source": [
    "for a in aircraft_set:\n",
    "    for t in time_periods[:-1]: \n",
    "        turn_around_time = aircraft_data.loc[aircraft_data['AircraftID'] == a, 'TurnAroundTime'].iloc[0]\n",
    "        #turn_around_time = 1\n",
    "        available_time = lpSum(x_vars[a, l, t_prev] for l in L for t_prev in time_periods if t_prev < t) + turn_around_time\n",
    "        model += available_time <= lpSum(x_vars[a, l, t] for l in L) # should be t+1\n"
   ]
  },
  {
   "cell_type": "markdown",
   "metadata": {},
   "source": [
    "9. Ensures that each aircraft is limited to flying no more than one route"
   ]
  },
  {
   "cell_type": "markdown",
   "metadata": {},
   "source": [
    "$$\n",
    "\\sum_{l \\in L} \\sum_{t \\in T} x_{alt} \\leq 1 \\quad \\forall a \\in A\n",
    "$$"
   ]
  },
  {
   "cell_type": "code",
   "execution_count": null,
   "metadata": {},
   "outputs": [],
   "source": [
    "for a in aircraft_set:\n",
    "    model += lpSum(x_vars[a, l, t] for l in L for t in time_periods) <= 1, f\"Single_Route_Constraint_{a}\"\n"
   ]
  },
  {
   "cell_type": "markdown",
   "metadata": {},
   "source": [
    "10. Ensure that each demand is assigned to at most one aircraft"
   ]
  },
  {
   "cell_type": "markdown",
   "metadata": {},
   "source": [
    "$$\n",
    "\\sum_{a \\in A} \\sum_{t \\in T} y_{dat} \\leq 1 \\quad \\forall d \\in D\n",
    "\n",
    "$$"
   ]
  },
  {
   "cell_type": "code",
   "execution_count": null,
   "metadata": {},
   "outputs": [],
   "source": [
    "for d in demands_set:\n",
    "    model += lpSum(y_vars[d, a, t] for a in aircraft_set for t in time_periods) <= 1, f\"Single_Aircraft_Assignment_{d}\""
   ]
  },
  {
   "cell_type": "markdown",
   "metadata": {},
   "source": [
    "11. Ensure that all demands are satisfied"
   ]
  },
  {
   "cell_type": "markdown",
   "metadata": {},
   "source": [
    "$$\n",
    "\\sum_{a \\in A} \\sum_{t \\in T} y_{dat} \\geq 1 \\quad \\forall d \\in D\n",
    "\n",
    "$$"
   ]
  },
  {
   "cell_type": "code",
   "execution_count": null,
   "metadata": {},
   "outputs": [],
   "source": [
    "for d in demands_set:\n",
    "    model += lpSum(y_vars[d, a, t] for a in aircraft_set for t in time_periods) >= 1, f\"Satisfy_Demand_{d}\"\n"
   ]
  },
  {
   "cell_type": "markdown",
   "metadata": {},
   "source": [
    "---next constraint is wrong---"
   ]
  },
  {
   "cell_type": "markdown",
   "metadata": {},
   "source": [
    "first it should be greater than. second, it ensures that if demand is fulfiled then that leg must be assigned"
   ]
  },
  {
   "cell_type": "markdown",
   "metadata": {},
   "source": [
    "12. Ensures that aircraft departure time aligns with scheduled departure datetime of demands"
   ]
  },
  {
   "cell_type": "markdown",
   "metadata": {},
   "source": [
    "$$\n",
    "x_{adt} \\leq y_{dat} \\quad \\forall d \\in D, \\forall a \\in A, \\forall t \\in T\n",
    "\n",
    "$$"
   ]
  },
  {
   "cell_type": "code",
   "execution_count": null,
   "metadata": {},
   "outputs": [],
   "source": [
    "for d in demands_set:\n",
    "    for a in aircraft_set:\n",
    "        for t in time_periods:\n",
    "            model += x_vars[a, d, t] <= y_vars[d, a, t], f\"Departure_Sync_{a}_{d}_{t}\"\n"
   ]
  },
  {
   "cell_type": "markdown",
   "metadata": {},
   "source": [
    "13. Each aircraft starts from its initial location"
   ]
  },
  {
   "cell_type": "markdown",
   "metadata": {},
   "source": [
    "$$\n",
    "\\sum_{dest \\in \\text{airports} : (init(a), dest) \\in L} x_{a(init(a), dest)t_0} = 1 \\quad \\forall a \\in A\n",
    "\n",
    "$$"
   ]
  },
  {
   "cell_type": "code",
   "execution_count": null,
   "metadata": {},
   "outputs": [],
   "source": [
    "for a in aircraft_set:\n",
    "    initial_location = aircraft_data.loc[aircraft_data['AircraftID'] == a, 'InitialLoca'].iloc[0]\n",
    "    model += lpSum(x_vars[a, (initial_location, dest), time_periods[0]] \n",
    "                   for dest in airports_set if (initial_location, dest) in L) == 1, f\"Start_From_Initial_Location_{a}\"\n"
   ]
  },
  {
   "cell_type": "markdown",
   "metadata": {},
   "source": [
    "14. Ensure that the total scheduled hours do not exceed the Initial HOS for each aircraft"
   ]
  },
  {
   "cell_type": "markdown",
   "metadata": {},
   "source": [
    "$$\n",
    "\\sum_{(dep, arr) \\in L} \\sum_{t \\in T} OperatingCost_{(dep, arr)} \\cdot x_{a(dep, arr)t} \\leq InitialHOS_a \\quad \\forall a \\in A\n",
    "\n",
    "$$"
   ]
  },
  {
   "cell_type": "code",
   "execution_count": null,
   "metadata": {},
   "outputs": [],
   "source": [
    "for a in aircraft_set:\n",
    "    initial_hos = aircraft_data.loc[aircraft_data['AircraftID'] == a, 'InitialHOS'].iloc[0]\n",
    "    model += lpSum(operating_costs[(dep, arr)] * x_vars[a, (dep, arr), t] \n",
    "                   for (dep, arr) in L for t in time_periods) <= initial_hos, f\"Max_HOS_{a}\"\n"
   ]
  },
  {
   "cell_type": "markdown",
   "metadata": {},
   "source": [
    "--- the formulation is wrong. it should be\n"
   ]
  },
  {
   "cell_type": "markdown",
   "metadata": {},
   "source": [
    "$$\n",
    "\\sum_{l \\in L} \\sum_{t \\in T} x_{alt} \\cdot \\text{Flyingtime}_{l} \\leq \\text{InitialHOS}_{a} \\quad \\forall a \\in A\n",
    "$$"
   ]
  },
  {
   "cell_type": "code",
   "execution_count": null,
   "metadata": {},
   "outputs": [],
   "source": [
    "for a in aircraft_set:\n",
    "    initial_hos = aircraft_data.loc[aircraft_data['AircraftID'] == a, 'InitialHOS'].iloc[0]\n",
    "    #since is 12.5 for all aircrafts, we can use the same parameter\n",
    "    #initial_hos = 12.5\n",
    "    total_flight_time = lpSum(x_vars[a, l, t] * flying_time[l] for l in L for t in time_periods)\n",
    "    model += total_flight_time <= initial_hos, f\"Initial_HOS_Constraint_{a}\"\n"
   ]
  },
  {
   "cell_type": "markdown",
   "metadata": {},
   "source": [
    "16. This constraint defines the conditions under which a flight leg is considered empty. If the aircraft is flying the leg but not serving any demands, this difference will be positive, and the empty_leg_vars will be forced to 1, indicating an empty leg."
   ]
  },
  {
   "cell_type": "markdown",
   "metadata": {},
   "source": [
    "$$\n",
    "empty\\_leg_{alt} \\geq x_{alt} - \\sum_{d \\in D : d = l} y_{dat} \\quad \\forall a \\in A, \\forall l \\in L, \\forall t \\in T\n",
    "$$\n"
   ]
  },
  {
   "cell_type": "code",
   "execution_count": null,
   "metadata": {},
   "outputs": [],
   "source": [
    "for a in aircraft_set:\n",
    "    for l in L:\n",
    "        for t in time_periods:\n",
    "            model += empty_leg_vars[a, l, t] >= x_vars[a, l, t] - lpSum(y_vars[d, a, t] for d in demands_set if d == l), f\"Empty_Leg_Definition_{a}_{l}_{t}\""
   ]
  },
  {
   "cell_type": "markdown",
   "metadata": {},
   "source": [
    "## objective function\n"
   ]
  },
  {
   "cell_type": "markdown",
   "metadata": {},
   "source": [
    "Maximize total profit, which is the revenue from fulfilling demands minus the operating costs:\n"
   ]
  },
  {
   "cell_type": "markdown",
   "metadata": {},
   "source": [
    "$$\n",
    "\\text{Maximize } Z =  \\sum_{d \\in D} \\sum_{a \\in A} \\sum_{t \\in T} RevenuePerDemand_d \\cdot y_{dat} - W_2 * \\sum_{l \\in L} \\sum_{a \\in A} \\sum_{t \\in T} operating_costs_l \\cdot x_{lat} - W_3 * \\sum_{l \\in L} \\sum_{a \\in A} empty_leg_penalty \\cdot z_{la}\n",
    "$$\n"
   ]
  },
  {
   "cell_type": "markdown",
   "metadata": {},
   "source": [
    "Based on 3 cases for each scenarios, Ws can be modified to meet the requirement.\n",
    "\n",
    "a) Focus of optimization search on maximization of total profit: in this case just make all Ws equal(=1) to focus on profit\n",
    "\n",
    "b) Focus of optimization search on minimization of empty flying movements: increase the W3 to make sure it is avoiding he empty fliying movement to extend possible\n",
    "\n",
    "c) Focus of optimization search on minimization of aircraft days used to satisfy the given demands: increasing the W2 to reduce the operational cost by having less days.\n"
   ]
  },
  {
   "cell_type": "code",
   "execution_count": null,
   "metadata": {},
   "outputs": [],
   "source": [
    "revenue = lpSum(revenue_per_demand[d] * y_vars[d, a, t] for d in demands_set for a in aircraft_set for t in time_periods)\n",
    "\n",
    "operational_cost = lpSum(operating_costs[l] * x_vars[a, l, t] for a in aircraft_set for l in L for t in time_periods)\n",
    "\n",
    "empty_leg_penalty = 100000  \n",
    "empty_leg_cost = lpSum(empty_leg_penalty * empty_leg_vars[a, l, t] for a in aircraft_set for l in L for t in time_periods)\n",
    "\n",
    "model += revenue - operational_cost - empty_leg_cost, \"Total_Profit\"\n"
   ]
  },
  {
   "cell_type": "markdown",
   "metadata": {},
   "source": [
    "## solve the model"
   ]
  },
  {
   "cell_type": "markdown",
   "metadata": {},
   "source": [
    "Now for each scenario, Ws must be modified before running the model"
   ]
  },
  {
   "cell_type": "code",
   "execution_count": null,
   "metadata": {},
   "outputs": [],
   "source": [
    "model.solve()\n",
    "\n",
    "if LpStatus[model.status] == 'Optimal':\n",
    "    print(\"Optimal Solution Found!\")\n",
    "    for var in model.variables():\n",
    "        if var.varValue is not None and var.varValue > 0:\n",
    "            print(var.name, \"=\", var.varValue)\n",
    "else:\n",
    "    print(\"No optimal solution found. Status:\", LpStatus[model.status])\n",
    "\n",
    "# model.writeLP(\"model.lp\")"
   ]
  },
  {
   "cell_type": "markdown",
   "metadata": {},
   "source": [
    "## output"
   ]
  },
  {
   "cell_type": "markdown",
   "metadata": {},
   "source": [
    "After generationg the feasible solution and verify the validity of the solution, then next step is to format the output to meet the output schema."
   ]
  }
 ],
 "metadata": {
  "kernelspec": {
   "display_name": "venv",
   "language": "python",
   "name": "python3"
  },
  "language_info": {
   "codemirror_mode": {
    "name": "ipython",
    "version": 3
   },
   "file_extension": ".py",
   "mimetype": "text/x-python",
   "name": "python",
   "nbconvert_exporter": "python",
   "pygments_lexer": "ipython3",
   "version": "3.11.4"
  }
 },
 "nbformat": 4,
 "nbformat_minor": 2
}
