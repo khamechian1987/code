{
 "cells": [
  {
   "cell_type": "markdown",
   "metadata": {},
   "source": [
    "## import libraries"
   ]
  },
  {
   "cell_type": "code",
   "execution_count": 5,
   "metadata": {},
   "outputs": [
    {
     "ename": "ModuleNotFoundError",
     "evalue": "No module named 'docplex'",
     "output_type": "error",
     "traceback": [
      "\u001b[1;31m---------------------------------------------------------------------------\u001b[0m",
      "\u001b[1;31mModuleNotFoundError\u001b[0m                       Traceback (most recent call last)",
      "\u001b[1;32mm:\\OneDrive\\OPTYM\\code\\ARO cplex.ipynb Cell 2\u001b[0m line \u001b[0;36m1\n\u001b[1;32m----> <a href='vscode-notebook-cell:/m%3A/OneDrive/OPTYM/code/ARO%20cplex.ipynb#W2sZmlsZQ%3D%3D?line=0'>1</a>\u001b[0m \u001b[39mfrom\u001b[39;00m \u001b[39mdocplex\u001b[39;00m\u001b[39m.\u001b[39;00m\u001b[39mmp\u001b[39;00m\u001b[39m.\u001b[39;00m\u001b[39mmodel\u001b[39;00m \u001b[39mimport\u001b[39;00m Model\n\u001b[0;32m      <a href='vscode-notebook-cell:/m%3A/OneDrive/OPTYM/code/ARO%20cplex.ipynb#W2sZmlsZQ%3D%3D?line=1'>2</a>\u001b[0m \u001b[39mimport\u001b[39;00m \u001b[39mpandas\u001b[39;00m \u001b[39mas\u001b[39;00m \u001b[39mpd\u001b[39;00m\n\u001b[0;32m      <a href='vscode-notebook-cell:/m%3A/OneDrive/OPTYM/code/ARO%20cplex.ipynb#W2sZmlsZQ%3D%3D?line=2'>3</a>\u001b[0m \u001b[39mimport\u001b[39;00m \u001b[39mpickle\u001b[39;00m\n",
      "\u001b[1;31mModuleNotFoundError\u001b[0m: No module named 'docplex'"
     ]
    }
   ],
   "source": [
    "from docplex.mp.model import Model\n",
    "import pandas as pd\n",
    "import pickle"
   ]
  },
  {
   "cell_type": "markdown",
   "metadata": {},
   "source": [
    "## load data"
   ]
  },
  {
   "cell_type": "code",
   "execution_count": 2,
   "metadata": {},
   "outputs": [],
   "source": [
    "aircraft_data = pd.read_csv(\"C:/Users/mrkha/OneDrive/Desktop/OPTYM/code/Aircraft.csv\")\n",
    "airports_data = pd.read_csv(\"C:/Users/mrkha/OneDrive/Desktop/OPTYM/code/Airports.csv\", encoding='ISO-8859-1')\n",
    "demands_file =  pd.read_csv(\"C:/Users/mrkha/OneDrive/Desktop/OPTYM/code/Demands.csv\")\n",
    "distance_time_file =  pd.read_csv(\"C:/Users/mrkha/OneDrive/Desktop/OPTYM/code/Distance and Flying Time.csv\")"
   ]
  },
  {
   "cell_type": "markdown",
   "metadata": {},
   "source": [
    "## preprocess"
   ]
  },
  {
   "cell_type": "code",
   "execution_count": 3,
   "metadata": {},
   "outputs": [],
   "source": [
    "aircraft_set = aircraft_data['AircraftID'].unique()\n",
    "demands_set = demands_file['DemandID'].unique()  # Corrected to 'demands_file'\n",
    "airports_set = airports_data['Airport Name'].unique()  # Ensure 'Airport Name' is the correct column name\n",
    "time_periods = pd.to_datetime(demands_file['ScheduledDepDatetime']).dt.date.unique()  # Corrected column name"
   ]
  },
  {
   "cell_type": "markdown",
   "metadata": {},
   "source": [
    "## parameters"
   ]
  },
  {
   "cell_type": "code",
   "execution_count": 4,
   "metadata": {},
   "outputs": [],
   "source": [
    "fixed_cost_per_leg = 10000000\n",
    "# Operating cost for each flight leg (assumed to be in Distance and Flying Time data)\n",
    "operating_costs = {row['DepAirport'] + row['ArrAirport']: row['FlyingTime']\n",
    "                   for _, row in distance_time_file.iterrows()}\n",
    "#\n",
    "# Revenue from fulfilling demand (simplification: proportional to PaxCount)\n",
    "revenue_per_demand = {row['DemandID']: row['PaxCount'] * 100  # Arbitrary revenue per passenger\n",
    "                      for _, row in demands_file.iterrows()}"
   ]
  },
  {
   "cell_type": "markdown",
   "metadata": {},
   "source": [
    "## Model initialization"
   ]
  },
  {
   "cell_type": "code",
   "execution_count": 5,
   "metadata": {},
   "outputs": [],
   "source": [
    "model = LpProblem(\"Aircraft_Route_Optimization\", LpMaximize)"
   ]
  },
  {
   "cell_type": "markdown",
   "metadata": {},
   "source": [
    "## Decision Variables"
   ]
  },
  {
   "cell_type": "code",
   "execution_count": 6,
   "metadata": {},
   "outputs": [],
   "source": [
    "L = list(distance_time_file[['DepAirport', 'ArrAirport']].drop_duplicates().itertuples(index=False, name=None))\n"
   ]
  },
  {
   "cell_type": "code",
   "execution_count": 7,
   "metadata": {},
   "outputs": [],
   "source": [
    "x_vars = LpVariable.dicts(\"x\", [(a, l, t) for a in aircraft_set for l in L for t in time_periods],cat=LpBinary)\n",
    "y_vars = LpVariable.dicts(\"y\", [(d, t) for d in demands_set for t in time_periods], cat=LpBinary)\n",
    "z_vars = LpVariable.dicts(\"z\", [(a, l) for a in aircraft_set for l in L], cat=LpBinary)"
   ]
  },
  {
   "cell_type": "code",
   "execution_count": null,
   "metadata": {},
   "outputs": [],
   "source": []
  },
  {
   "cell_type": "markdown",
   "metadata": {},
   "source": [
    "## Objective Function"
   ]
  },
  {
   "cell_type": "code",
   "execution_count": 19,
   "metadata": {},
   "outputs": [
    {
     "ename": "KeyError",
     "evalue": "('KGRB', 'KPWK')",
     "output_type": "error",
     "traceback": [
      "\u001b[1;31m---------------------------------------------------------------------------\u001b[0m",
      "\u001b[1;31mKeyError\u001b[0m                                  Traceback (most recent call last)",
      "\u001b[1;32mm:\\OneDrive\\OPTYM\\code\\ARO.ipynb Cell 14\u001b[0m line \u001b[0;36m5\n\u001b[0;32m      <a href='vscode-notebook-cell:/m%3A/OneDrive/OPTYM/code/ARO.ipynb#X20sZmlsZQ%3D%3D?line=1'>2</a>\u001b[0m revenue \u001b[39m=\u001b[39m lpSum(revenue_per_demand[d] \u001b[39m*\u001b[39m y_vars[d, t] \u001b[39mfor\u001b[39;00m d \u001b[39min\u001b[39;00m demands_set \u001b[39mfor\u001b[39;00m t \u001b[39min\u001b[39;00m time_periods)\n\u001b[0;32m      <a href='vscode-notebook-cell:/m%3A/OneDrive/OPTYM/code/ARO.ipynb#X20sZmlsZQ%3D%3D?line=3'>4</a>\u001b[0m \u001b[39m# Operating costs for flying legs\u001b[39;00m\n\u001b[1;32m----> <a href='vscode-notebook-cell:/m%3A/OneDrive/OPTYM/code/ARO.ipynb#X20sZmlsZQ%3D%3D?line=4'>5</a>\u001b[0m cost \u001b[39m=\u001b[39m lpSum(operating_costs[l] \u001b[39m*\u001b[39;49m x_vars[a, l, t] \u001b[39mfor\u001b[39;49;00m a \u001b[39min\u001b[39;49;00m aircraft_set \u001b[39mfor\u001b[39;49;00m l \u001b[39min\u001b[39;49;00m L \u001b[39mfor\u001b[39;49;00m t \u001b[39min\u001b[39;49;00m time_periods)\n\u001b[0;32m      <a href='vscode-notebook-cell:/m%3A/OneDrive/OPTYM/code/ARO.ipynb#X20sZmlsZQ%3D%3D?line=6'>7</a>\u001b[0m \u001b[39m# Objective function: Maximize profit (Revenue - Cost)\u001b[39;00m\n\u001b[0;32m      <a href='vscode-notebook-cell:/m%3A/OneDrive/OPTYM/code/ARO.ipynb#X20sZmlsZQ%3D%3D?line=7'>8</a>\u001b[0m model \u001b[39m+\u001b[39m\u001b[39m=\u001b[39m revenue \u001b[39m-\u001b[39m cost\n",
      "File \u001b[1;32mm:\\OneDrive\\OPTYM\\code\\venv\\Lib\\site-packages\\pulp\\pulp.py:2281\u001b[0m, in \u001b[0;36mlpSum\u001b[1;34m(vector)\u001b[0m\n\u001b[0;32m   2275\u001b[0m \u001b[39mdef\u001b[39;00m \u001b[39mlpSum\u001b[39m(vector):\n\u001b[0;32m   2276\u001b[0m \u001b[39m    \u001b[39m\u001b[39m\"\"\"\u001b[39;00m\n\u001b[0;32m   2277\u001b[0m \u001b[39m    Calculate the sum of a list of linear expressions\u001b[39;00m\n\u001b[0;32m   2278\u001b[0m \n\u001b[0;32m   2279\u001b[0m \u001b[39m    :param vector: A list of linear expressions\u001b[39;00m\n\u001b[0;32m   2280\u001b[0m \u001b[39m    \"\"\"\u001b[39;00m\n\u001b[1;32m-> 2281\u001b[0m     \u001b[39mreturn\u001b[39;00m LpAffineExpression()\u001b[39m.\u001b[39;49maddInPlace(vector)\n",
      "File \u001b[1;32mm:\\OneDrive\\OPTYM\\code\\venv\\Lib\\site-packages\\pulp\\pulp.py:896\u001b[0m, in \u001b[0;36mLpAffineExpression.addInPlace\u001b[1;34m(self, other)\u001b[0m\n\u001b[0;32m    894\u001b[0m         \u001b[39mself\u001b[39m\u001b[39m.\u001b[39maddInPlace(e)\n\u001b[0;32m    895\u001b[0m \u001b[39melif\u001b[39;00m \u001b[39misinstance\u001b[39m(other, \u001b[39mlist\u001b[39m) \u001b[39mor\u001b[39;00m \u001b[39misinstance\u001b[39m(other, Iterable):\n\u001b[1;32m--> 896\u001b[0m     \u001b[39mfor\u001b[39;49;00m e \u001b[39min\u001b[39;49;00m other:\n\u001b[0;32m    897\u001b[0m         \u001b[39mself\u001b[39;49m\u001b[39m.\u001b[39;49maddInPlace(e)\n\u001b[0;32m    898\u001b[0m \u001b[39melse\u001b[39;00m:\n",
      "\u001b[1;32mm:\\OneDrive\\OPTYM\\code\\ARO.ipynb Cell 14\u001b[0m line \u001b[0;36m5\n\u001b[0;32m      <a href='vscode-notebook-cell:/m%3A/OneDrive/OPTYM/code/ARO.ipynb#X20sZmlsZQ%3D%3D?line=1'>2</a>\u001b[0m revenue \u001b[39m=\u001b[39m lpSum(revenue_per_demand[d] \u001b[39m*\u001b[39m y_vars[d, t] \u001b[39mfor\u001b[39;00m d \u001b[39min\u001b[39;00m demands_set \u001b[39mfor\u001b[39;00m t \u001b[39min\u001b[39;00m time_periods)\n\u001b[0;32m      <a href='vscode-notebook-cell:/m%3A/OneDrive/OPTYM/code/ARO.ipynb#X20sZmlsZQ%3D%3D?line=3'>4</a>\u001b[0m \u001b[39m# Operating costs for flying legs\u001b[39;00m\n\u001b[1;32m----> <a href='vscode-notebook-cell:/m%3A/OneDrive/OPTYM/code/ARO.ipynb#X20sZmlsZQ%3D%3D?line=4'>5</a>\u001b[0m cost \u001b[39m=\u001b[39m lpSum(operating_costs[l] \u001b[39m*\u001b[39m x_vars[a, l, t] \u001b[39mfor\u001b[39;00m a \u001b[39min\u001b[39;00m aircraft_set \u001b[39mfor\u001b[39;00m l \u001b[39min\u001b[39;00m L \u001b[39mfor\u001b[39;00m t \u001b[39min\u001b[39;00m time_periods)\n\u001b[0;32m      <a href='vscode-notebook-cell:/m%3A/OneDrive/OPTYM/code/ARO.ipynb#X20sZmlsZQ%3D%3D?line=6'>7</a>\u001b[0m \u001b[39m# Objective function: Maximize profit (Revenue - Cost)\u001b[39;00m\n\u001b[0;32m      <a href='vscode-notebook-cell:/m%3A/OneDrive/OPTYM/code/ARO.ipynb#X20sZmlsZQ%3D%3D?line=7'>8</a>\u001b[0m model \u001b[39m+\u001b[39m\u001b[39m=\u001b[39m revenue \u001b[39m-\u001b[39m cost\n",
      "\u001b[1;31mKeyError\u001b[0m: ('KGRB', 'KPWK')"
     ]
    }
   ],
   "source": [
    "# Revenue from fulfilling demands\n",
    "revenue = lpSum(revenue_per_demand[d] * y_vars[d, t] for d in demands_set for t in time_periods)\n",
    "\n",
    "# Operating costs for flying legs\n",
    "cost = lpSum(operating_costs[l] * x_vars[a, l, t] for a in aircraft_set for l in L for t in time_periods)\n",
    "\n",
    "# Objective function: Maximize profit (Revenue - Cost)\n",
    "model += revenue - cost\n"
   ]
  }
 ],
 "metadata": {
  "kernelspec": {
   "display_name": "venv",
   "language": "python",
   "name": "python3"
  },
  "language_info": {
   "codemirror_mode": {
    "name": "ipython",
    "version": 3
   },
   "file_extension": ".py",
   "mimetype": "text/x-python",
   "name": "python",
   "nbconvert_exporter": "python",
   "pygments_lexer": "ipython3",
   "version": "3.11.4"
  }
 },
 "nbformat": 4,
 "nbformat_minor": 2
}
